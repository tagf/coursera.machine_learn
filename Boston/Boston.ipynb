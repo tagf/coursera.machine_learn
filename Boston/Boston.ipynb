{
 "cells": [
  {
   "cell_type": "code",
   "execution_count": 32,
   "metadata": {
    "collapsed": false
   },
   "outputs": [],
   "source": [
    "from sklearn import datasets\n",
    "from sklearn import preprocessing\n",
    "\n",
    "boston = datasets.load_boston()"
   ]
  },
  {
   "cell_type": "code",
   "execution_count": 33,
   "metadata": {
    "collapsed": false
   },
   "outputs": [
    {
     "data": {
      "text/plain": [
       "[-16.050208508436157,\n",
       " -17.132638843060583,\n",
       " -17.375410913865419,\n",
       " -17.616275680772858,\n",
       " -17.649545587906346,\n",
       " -18.516636858609509,\n",
       " -19.100776449606307,\n",
       " -19.34173764042847,\n",
       " -19.694292512880146,\n",
       " -19.708097236971145,\n",
       " -19.931766883262224,\n",
       " -20.077444329049616,\n",
       " -20.59930601028665,\n",
       " -20.675687731689074,\n",
       " -21.004363435126521,\n",
       " -21.022925273018657,\n",
       " -21.008987188758283,\n",
       " -21.024570514477869,\n",
       " -21.109732017457702,\n",
       " -21.086617342991111]"
      ]
     },
     "execution_count": 33,
     "metadata": {},
     "output_type": "execute_result"
    }
   ],
   "source": [
    "import numpy\n",
    "from sklearn.neighbors import KNeighborsRegressor\n",
    "from sklearn.cross_validation import KFold\n",
    "from sklearn.cross_validation import cross_val_score\n",
    "\n",
    "X = preprocessing.scale(boston.data)\n",
    "y = boston.target\n",
    "\n",
    "Q = []\n",
    "for p in numpy.linspace(1, 10, 20):\n",
    "    neigh = KNeighborsRegressor(n_neighbors = 5, weights = 'distance', p = p, metric = 'minkowski')\n",
    "    neigh.fit(X, y) \n",
    "\n",
    "    kf = KFold(y.shape[0], n_folds = 5, shuffle = True, random_state=42)\n",
    "\n",
    "    quality = cross_val_score(neigh, X, y, cv = kf, scoring='mean_squared_error')\n",
    "    Q.append(quality.mean())\n",
    "\n",
    "Q"
   ]
  }
 ],
 "metadata": {
  "kernelspec": {
   "display_name": "Python 2",
   "language": "python",
   "name": "python2"
  },
  "language_info": {
   "codemirror_mode": {
    "name": "ipython",
    "version": 2
   },
   "file_extension": ".py",
   "mimetype": "text/x-python",
   "name": "python",
   "nbconvert_exporter": "python",
   "pygments_lexer": "ipython2",
   "version": "2.7.11"
  }
 },
 "nbformat": 4,
 "nbformat_minor": 0
}
