{
 "cells": [
  {
   "cell_type": "code",
   "execution_count": 2,
   "metadata": {
    "collapsed": false
   },
   "outputs": [
    {
     "data": {
      "text/html": [
       "<div>\n",
       "<table border=\"1\" class=\"dataframe\">\n",
       "  <thead>\n",
       "    <tr style=\"text-align: right;\">\n",
       "      <th></th>\n",
       "      <th>0</th>\n",
       "      <th>1</th>\n",
       "      <th>2</th>\n",
       "    </tr>\n",
       "  </thead>\n",
       "  <tbody>\n",
       "    <tr>\n",
       "      <th>0</th>\n",
       "      <td>-1</td>\n",
       "      <td>-0.663827</td>\n",
       "      <td>-0.138526</td>\n",
       "    </tr>\n",
       "    <tr>\n",
       "      <th>1</th>\n",
       "      <td>1</td>\n",
       "      <td>1.994596</td>\n",
       "      <td>2.468025</td>\n",
       "    </tr>\n",
       "    <tr>\n",
       "      <th>2</th>\n",
       "      <td>-1</td>\n",
       "      <td>-1.247395</td>\n",
       "      <td>0.749425</td>\n",
       "    </tr>\n",
       "    <tr>\n",
       "      <th>3</th>\n",
       "      <td>1</td>\n",
       "      <td>2.309374</td>\n",
       "      <td>1.899836</td>\n",
       "    </tr>\n",
       "    <tr>\n",
       "      <th>4</th>\n",
       "      <td>1</td>\n",
       "      <td>0.849143</td>\n",
       "      <td>2.407750</td>\n",
       "    </tr>\n",
       "  </tbody>\n",
       "</table>\n",
       "</div>"
      ],
      "text/plain": [
       "   0         1         2\n",
       "0 -1 -0.663827 -0.138526\n",
       "1  1  1.994596  2.468025\n",
       "2 -1 -1.247395  0.749425\n",
       "3  1  2.309374  1.899836\n",
       "4  1  0.849143  2.407750"
      ]
     },
     "execution_count": 2,
     "metadata": {},
     "output_type": "execute_result"
    }
   ],
   "source": [
    "import pandas\n",
    "import numpy as np\n",
    "\n",
    "data = pandas.read_csv('data-logistic.csv', header = None)\n",
    "\n",
    "X = data[[1,2]]\n",
    "y = np.ravel(data[[0]])\n",
    "data[:5]"
   ]
  },
  {
   "cell_type": "code",
   "execution_count": 89,
   "metadata": {
    "collapsed": false
   },
   "outputs": [],
   "source": [
    "def regression_step(w1, w2, X, y, k, C):\n",
    "    dx1 = sum(y * X[1] * (1 - np.power(1 + np.exp( -y * (w1 * X[1] + w2 * X[2])), -1))) / y.size\n",
    "    dx2 = sum(y * X[2] * (1 - np.power(1 + np.exp( -y * (w1 * X[1] + w2 * X[2])), -1))) / y.size\n",
    "    return (w1 + k*(dx1 - C*w1), w2 + k*(dx2 - C*w2))\n",
    "\n",
    "from scipy.spatial import distance\n",
    "def regression_iter(w1, w2, X, y, k, C, max_depth = 10000, eps = 1.e-5):\n",
    "    new = (w1, w2)\n",
    "    for i in range(0, max_depth):\n",
    "        old = new\n",
    "        new = regression_step(old[0], old[1], X, y, k, C)\n",
    "        if distance.euclidean(new, old) < eps:\n",
    "            break\n",
    "    print \"number of iterations \", i + 1;\n",
    "    print \"distance \", distance.euclidean(new, old);\n",
    "    return new;"
   ]
  },
  {
   "cell_type": "code",
   "execution_count": 92,
   "metadata": {
    "collapsed": false
   },
   "outputs": [
    {
     "name": "stdout",
     "output_type": "stream",
     "text": [
      "number of iterations  244\n",
      "distance  9.80234978163e-06\n",
      "number of iterations  8\n",
      "distance  4.76318913956e-06\n",
      "0.927 0.936\n"
     ]
    }
   ],
   "source": [
    "from sklearn.metrics import roc_auc_score\n",
    "\n",
    "def sigmoid_eval(X, w1, w2):\n",
    "     return np.power(1 + np.exp(-w1 * X[1] - w2 * X[2]), -1)\n",
    "\n",
    "w1, w2 = regression_iter(0., 0., X, y, 0.1, 0.)\n",
    "not_regularized = roc_auc_score(y, sigmoid_eval(X, w1, w2))\n",
    "    \n",
    "w1, w2 = regression_iter(0., 0., X, y, 0.1, 10.)\n",
    "regularized = roc_auc_score(y, sigmoid_eval(X, w1, w2))\n",
    "\n",
    "\n",
    "ans = str(np.round(not_regularized, 3)) + ' ' \\\n",
    "    + str(np.round(regularized, 3))\n",
    "print ans\n",
    "\n"
   ]
  },
  {
   "cell_type": "code",
   "execution_count": null,
   "metadata": {
    "collapsed": true
   },
   "outputs": [],
   "source": []
  }
 ],
 "metadata": {
  "kernelspec": {
   "display_name": "Python 2",
   "language": "python",
   "name": "python2"
  },
  "language_info": {
   "codemirror_mode": {
    "name": "ipython",
    "version": 2
   },
   "file_extension": ".py",
   "mimetype": "text/x-python",
   "name": "python",
   "nbconvert_exporter": "python",
   "pygments_lexer": "ipython2",
   "version": "2.7.11"
  }
 },
 "nbformat": 4,
 "nbformat_minor": 0
}
